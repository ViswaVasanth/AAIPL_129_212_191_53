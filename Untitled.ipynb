{
 "cells": [
  {
   "cell_type": "code",
   "execution_count": 1,
   "id": "194ae4ea-93da-4e3c-b43d-ce2e5b956dfb",
   "metadata": {},
   "outputs": [],
   "source": [
    "from agents.question_model import QAgent\n",
    "from agents.question_agent import QuestioningAgent\n",
    "import json\n",
    "import os\n",
    "import yaml"
   ]
  },
  {
   "cell_type": "code",
   "execution_count": 2,
   "id": "fb5572fa-1e3a-43cf-8610-afcb0c61c068",
   "metadata": {
    "scrolled": true
   },
   "outputs": [
    {
     "data": {
      "application/vnd.jupyter.widget-view+json": {
       "model_id": "83016711b0b64739b11841735df6fab7",
       "version_major": 2,
       "version_minor": 0
      },
      "text/plain": [
       "Loading checkpoint shards:   0%|          | 0/17 [00:00<?, ?it/s]"
      ]
     },
     "metadata": {},
     "output_type": "display_data"
    }
   ],
   "source": [
    "agent = QuestioningAgent()\n",
    "with open(\"assets/topics.json\") as f: topics = json.load(f)"
   ]
  },
  {
   "cell_type": "code",
   "execution_count": 3,
   "id": "6be21aec-23fe-4921-82e8-360ef0c86ec1",
   "metadata": {},
   "outputs": [],
   "source": [
    "gen_kwargs = {\"tgps_show\": True}\n",
    "with open(\"qgen.yaml\", \"r\") as f: gen_kwargs.update(yaml.safe_load(f))\n",
    "inc_samples = QuestioningAgent.load_icl_samples(\"assets/topics_example.json\")"
   ]
  },
  {
   "cell_type": "code",
   "execution_count": 4,
   "id": "f82e18bd-24b7-475a-8d3d-7e6e0db10302",
   "metadata": {
    "scrolled": true
   },
   "outputs": [
    {
     "name": "stderr",
     "output_type": "stream",
     "text": [
      "STEPS: 100%|██████████| 4/4 [01:50<00:00, 27.67s/it]\n"
     ]
    }
   ],
   "source": [
    "question, tls, gts = agent.generate_batches(\n",
    "        num_questions=20,\n",
    "        topics=topics, \n",
    "        batch_size=5,\n",
    "        wadvsys=True,\n",
    "        wicl=True,\n",
    "        inc_samples=inc_samples,\n",
    "        **gen_kwargs\n",
    "    )"
   ]
  },
  {
   "cell_type": "code",
   "execution_count": 5,
   "id": "e166664b-dbbd-49e8-add0-04e7bf749f26",
   "metadata": {
    "scrolled": true
   },
   "outputs": [],
   "source": [
    "questions = []\n",
    "for q in question:\n",
    "    q = q.replace(\"```json\", \"\").replace(\"```\", \"\")\n",
    "    try:\n",
    "        q = json.loads(q)\n",
    "        questions.append(q)\n",
    "        # print(q, flush=True)\n",
    "    except Exception as e:\n",
    "        print(q)"
   ]
  },
  {
   "cell_type": "code",
   "execution_count": 7,
   "id": "f11515f3-1d9d-49ac-9a92-53a2a98ac9f4",
   "metadata": {},
   "outputs": [],
   "source": [
    "from agents.answer_agent import AnsweringAgent\n",
    "import json\n",
    "import os\n",
    "import yaml"
   ]
  },
  {
   "cell_type": "code",
   "execution_count": 8,
   "id": "3725550e-06f6-45d4-8bf9-f8cba119f43a",
   "metadata": {},
   "outputs": [
    {
     "data": {
      "application/vnd.jupyter.widget-view+json": {
       "model_id": "077db88711f2472fa8114645e84f947d",
       "version_major": 2,
       "version_minor": 0
      },
      "text/plain": [
       "Loading checkpoint shards:   0%|          | 0/3 [00:00<?, ?it/s]"
      ]
     },
     "metadata": {},
     "output_type": "display_data"
    }
   ],
   "source": [
    "a_agent = AnsweringAgent(False)"
   ]
  },
  {
   "cell_type": "code",
   "execution_count": 9,
   "id": "729527d0-eae3-4021-b3e7-cf239cefca66",
   "metadata": {},
   "outputs": [
    {
     "name": "stderr",
     "output_type": "stream",
     "text": [
      "STEPS: 100%|██████████| 4/4 [00:13<00:00,  3.31s/batch]\n"
     ]
    }
   ],
   "source": [
    "gen_kwargs = {\"tgps_show\": True}\n",
    "with open(\"agen.yaml\", \"r\") as f: gen_kwargs.update(yaml.safe_load(f))\n",
    "answer, tls, gts = a_agent.answer_batches(\n",
    "    questions=questions,#[json.loads(q) for q in question],\n",
    "    batch_size=5,\n",
    "    **gen_kwargs\n",
    ")"
   ]
  },
  {
   "cell_type": "code",
   "execution_count": 10,
   "id": "5e0b8c73-3dcd-4e3b-b7da-ffd500a32dfc",
   "metadata": {},
   "outputs": [],
   "source": [
    "qns = questions#[json.loads(q) for q in question]\n",
    "ans = [json.loads(a) for a in answer]"
   ]
  },
  {
   "cell_type": "code",
   "execution_count": 11,
   "id": "06d5db31-480b-4e3d-97b0-7070a83081db",
   "metadata": {},
   "outputs": [
    {
     "name": "stdout",
     "output_type": "stream",
     "text": [
      "0.4\n"
     ]
    }
   ],
   "source": [
    "count=0\n",
    "for q, a in zip(qns, answer):\n",
    "    try:\n",
    "        a = json.loads(a)\n",
    "        if q['answer'] == a['answer']:\n",
    "            count+=1\n",
    "    except Exception as e:\n",
    "        print(a)\n",
    "print(count/len(qns))"
   ]
  },
  {
   "cell_type": "code",
   "execution_count": 12,
   "id": "2d5b57d7-5c19-4e8f-a302-f018e961dc9e",
   "metadata": {},
   "outputs": [
    {
     "data": {
      "text/plain": [
       "8"
      ]
     },
     "execution_count": 12,
     "metadata": {},
     "output_type": "execute_result"
    }
   ],
   "source": [
    "count"
   ]
  },
  {
   "cell_type": "code",
   "execution_count": 13,
   "id": "fc92a32c-14e9-4826-82e9-242b667a8cd0",
   "metadata": {},
   "outputs": [
    {
     "data": {
      "text/plain": [
       "20"
      ]
     },
     "execution_count": 13,
     "metadata": {},
     "output_type": "execute_result"
    }
   ],
   "source": [
    "len(qns)"
   ]
  },
  {
   "cell_type": "code",
   "execution_count": 14,
   "id": "e6d34bac-181a-4c9d-9880-d089817db8ba",
   "metadata": {
    "scrolled": true
   },
   "outputs": [
    {
     "data": {
      "text/plain": [
       "{'topic': 'Puzzles involving generations and family tree logic',\n",
       " 'question': 'In a family of seven people across three generations, A is the sister of B, who is the father of C. D is the daughter of E and the aunt of C. F is the mother of A and the grandmother of C. G is the brother of B and the father of D. How is D related to G?',\n",
       " 'choices': ['A) Daughter', 'B) Sister', 'C) Niece', 'D) Wife'],\n",
       " 'answer': 'A',\n",
       " 'explanation': 'From the information: A and B are siblings. B is the father of C, so A is C’s aunt. G is B’s brother and D’s father. D is G’s daughter. F is the mother of A and B, making her the grandmother of C. D is the daughter of G.'}"
      ]
     },
     "execution_count": 14,
     "metadata": {},
     "output_type": "execute_result"
    }
   ],
   "source": [
    "id = 1\n",
    "qns[id]"
   ]
  },
  {
   "cell_type": "code",
   "execution_count": 15,
   "id": "b6fff229-48a7-4094-a532-516effdfc492",
   "metadata": {
    "scrolled": true
   },
   "outputs": [
    {
     "data": {
      "text/plain": [
       "{'answer': 'C',\n",
       " 'reasoning': 'G is the father of D, making D the daughter of G. Therefore, D is the niece of G.'}"
      ]
     },
     "execution_count": 15,
     "metadata": {},
     "output_type": "execute_result"
    }
   ],
   "source": [
    "ans[id]"
   ]
  },
  {
   "cell_type": "code",
   "execution_count": null,
   "id": "750e08f9-b8f6-4f7d-bce4-7a0a0baab595",
   "metadata": {},
   "outputs": [],
   "source": [
    "topics = [a['topic'] for a in qns]\n",
    "from collections import Counter\n",
    "Counter(topics)"
   ]
  },
  {
   "cell_type": "code",
   "execution_count": null,
   "id": "d684ab62-3cc0-4ba9-82d4-ca333fe39600",
   "metadata": {},
   "outputs": [],
   "source": []
  }
 ],
 "metadata": {
  "kernelspec": {
   "display_name": "Python 3 (ipykernel)",
   "language": "python",
   "name": "python3"
  },
  "language_info": {
   "codemirror_mode": {
    "name": "ipython",
    "version": 3
   },
   "file_extension": ".py",
   "mimetype": "text/x-python",
   "name": "python",
   "nbconvert_exporter": "python",
   "pygments_lexer": "ipython3",
   "version": "3.12.10"
  }
 },
 "nbformat": 4,
 "nbformat_minor": 5
}
